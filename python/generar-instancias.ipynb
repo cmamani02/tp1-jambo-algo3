{
 "cells": [
  {
   "cell_type": "markdown",
   "metadata": {},
   "source": [
    "# Generador de instancias\n",
    "En este notebook está el código para generar los sets de instancias que se usan para experimentar.\n",
    "- Estas instancias van a ser guardadas en la carpeta __instancias__.\n",
    "- Cada set estará en su propia carpeta y tendrá un archivo _indice.csv_ que contendrá información sobre las instancias."
   ]
  },
  {
   "cell_type": "code",
   "execution_count": 1,
   "metadata": {},
   "outputs": [],
   "source": [
    "import random, math\n",
    "import pandas as pd"
   ]
  },
  {
   "cell_type": "code",
   "execution_count": 2,
   "metadata": {},
   "outputs": [],
   "source": [
    "def save_instance(dataset, instance_name, w, r, R):\n",
    "    with open(F\"instancias/{dataset}/{instance_name}.txt\", \"w\") as f:\n",
    "        print(len(r), R, file=f)\n",
    "        for i in range(len(r)): \n",
    "            print(w[i],r[i],file=f)\n",
    "            \n",
    "\n",
    "def save_index(dataset, instances):\n",
    "    with open(F\"instancias/{dataset}/instances.txt\", \"w\") as f:\n",
    "        for instance in instances: \n",
    "            print(instance, file=f)"
   ]
  },
  {
   "cell_type": "markdown",
   "metadata": {},
   "source": [
    "## Dataset 1\n",
    "#### Backtraking mejor caso\n",
    "Esta familia de instancias posee las siguientes características dado una  secuencia de productos de tamaño $n$:\n",
    "- La secuencia de pesos $w = \\{ R+1,..., R+1, R \\}$.\n",
    "- La secuencia de resistencias  $r=\\{1, ...., 1\\}$\n",
    "- Con algún $R > 0$"
   ]
  },
  {
   "cell_type": "code",
   "execution_count": 4,
   "metadata": {},
   "outputs": [],
   "source": [
    "filas_indice = []\n",
    "for i in range(1, 1000):\n",
    "    n = i*10\n",
    "    R = n\n",
    "    w = [R+1 for i in range(0, n)] #lista inicializada con ceros\n",
    "    w[-1] = R\n",
    "    r = [1 for i in range(0, n)] #lista inicializada con ceros\n",
    "    save_instance(\"mejor-caso-bt\", F\"BT-MC-{n}\", w, r, R)\n",
    "    filas_indice.append([\"mejor-caso-bt\", F\"BT-MC-{n}\", n, R, F\"instancias/mejor-caso-bt/BT-MC-{n}.txt\"])\n",
    "pd.DataFrame(filas_indice, columns=[\"dataset\", \"instancia\", \"n\", \"R\", \"archivo\"]).to_csv(\"instancias/mejor-caso-bt/indice.csv\", index=False, header=True)"
   ]
  },
  {
   "cell_type": "markdown",
   "metadata": {},
   "source": [
    "# Dataset 2\n",
    "#### Bactraking peor caso\n",
    "Se corresponden con las instancias de densidad baja."
   ]
  },
  {
   "cell_type": "code",
   "execution_count": 5,
   "metadata": {},
   "outputs": [],
   "source": [
    "filas_indice = []\n",
    "for n in range(1,33):\n",
    "    R = n\n",
    "    p = math.ceil(0.05*n)\n",
    "    w = [p for i in range(0, n)] \n",
    "    r = [n for i in range(0, n)]\n",
    "    save_instance(\"peor-caso-bt\", F\"BT-PC-{n}\", w, r, R)\n",
    "    filas_indice.append([\"peor-caso-bt\", F\"BT-PC-{n}\", n, R, F\"instancias/peor-caso-bt/BT-PC-{n}.txt\"])\n",
    "pd.DataFrame(filas_indice, columns=[\"dataset\", \"instancia\", \"n\", \"R\", \"archivo\"]).to_csv(\"instancias/peor-caso-bt/indice.csv\", index=False, header=True)"
   ]
  },
  {
   "cell_type": "markdown",
   "metadata": {},
   "source": [
    "## Dataset 3\n",
    "#### Bactraking caso medio\n",
    "Bactraking instancias n*n donde es posible agregar todos los productos."
   ]
  },
  {
   "cell_type": "code",
   "execution_count": 3,
   "metadata": {},
   "outputs": [],
   "source": [
    "filas_indice = []\n",
    "for n in range(1, 1001):\n",
    "    R = 2*n\n",
    "    w = [1 for i in range(0, n)] \n",
    "    r = [R for i in range(0, n)] \n",
    "    save_instance(\"caso-medio-bt\", F\"BT-CM-{n}\", w, r, R)\n",
    "    filas_indice.append([\"caso-medio-bt\", F\"BT-CM-{n}\", n, R, F\"instancias/caso-medio-bt/BT-CM-{n}.txt\"])\n",
    "pd.DataFrame(filas_indice, columns=[\"dataset\", \"instancia\", \"n\", \"R\", \"archivo\"]).to_csv(\"instancias/caso-medio-bt/indice.csv\", index=False, header=True)"
   ]
  },
  {
   "cell_type": "markdown",
   "metadata": {},
   "source": [
    "## Dataset 4\n",
    "#### Instancias con densidad alta\n",
    "Esta familia de instancias posee las siguientes características dado una  secuencia de productos de tamaño n:\n",
    "- R = n\n",
    "- El peso de cada producto es el 20 % del valor R.\n",
    "- Inicializamos la secuencia de resistencias con el valor R en todas sus posiciones."
   ]
  },
  {
   "cell_type": "code",
   "execution_count": 7,
   "metadata": {},
   "outputs": [],
   "source": [
    "filas_indice = []\n",
    "for n in range(1,100):\n",
    "    R = n\n",
    "    p = math.ceil(0.20*n)\n",
    "    w = [p for i in range(0, n)]\n",
    "    r = [n for i in range(0, n)] \n",
    "    save_instance(\"densidad-alta\", F\"ALTA-{n}\", w, r, R)\n",
    "    filas_indice.append([\"densidad-alta\", F\"ALTA-{n}\", n, R, F\"instancias/densidad-alta/ALTA-{n}.txt\"])\n",
    "pd.DataFrame(filas_indice, columns=[\"dataset\", \"instancia\", \"n\", \"R\", \"archivo\"]).to_csv(\"instancias/densidad-alta/indice.csv\", index=False, header=True)"
   ]
  },
  {
   "cell_type": "markdown",
   "metadata": {},
   "source": [
    "## Dataset 5\n",
    "#### Instancias con densidad baja:\n",
    "Esta familia de instancias posee las siguientes características dado una  secuencia de productos de tamaño n:\n",
    "- R = n\n",
    "- El peso de cada producto es el 5 % del valor R.\n",
    "- Inicializamos la secuencia de resistencias con el valor R en todas sus posiciones."
   ]
  },
  {
   "cell_type": "code",
   "execution_count": 8,
   "metadata": {},
   "outputs": [],
   "source": [
    "filas_indice = []\n",
    "for n in range(1,30):\n",
    "    R = n\n",
    "    p = math.ceil(0.05*n)\n",
    "    w = [p for i in range(0, n)] \n",
    "    r = [n for i in range(0, n)]\n",
    "    save_instance(\"densidad-baja\", F\"BAJA-{n}\", w, r, R)\n",
    "    filas_indice.append([\"densidad-baja\", F\"BAJA-{n}\", n, R, F\"instancias/densidad-baja/BAJA-{n}.txt\"])\n",
    "pd.DataFrame(filas_indice, columns=[\"dataset\", \"instancia\", \"n\", \"R\", \"archivo\"]).to_csv(\"instancias/densidad-baja/indice.csv\", index=False, header=True)"
   ]
  },
  {
   "cell_type": "markdown",
   "metadata": {},
   "source": [
    "# Dataset 6\n",
    "Instancias variando n y R."
   ]
  },
  {
   "cell_type": "code",
   "execution_count": 11,
   "metadata": {},
   "outputs": [],
   "source": [
    "filas_indice = []\n",
    "for n in range(1000, 8000, 500):\n",
    "    for R in range(1000, 8000, 500):\n",
    "        w = [i+1 for i in range(0, n)]\n",
    "        r = [i+1 for i in range(0, n)]\n",
    "        random.shuffle(w) #reordena la lista de manera random\n",
    "        random.shuffle(r) #reordena la lista de manera random\n",
    "        save_instance(\"dinamica\", F\"DP-{n}-{R}\", w, r, R)\n",
    "        filas_indice.append([\"dinamica\", F\"DP-{n}-{R}\", n, R, F\"instancias/dinamica/DP-{n}-{R}.txt\"])\n",
    "pd.DataFrame(filas_indice, columns=[\"dataset\", \"instancia\", \"n\", \"R\", \"archivo\"]).to_csv(\"instancias/dinamica/indice.csv\", index=False, header=True)"
   ]
  },
  {
   "cell_type": "code",
   "execution_count": null,
   "metadata": {},
   "outputs": [],
   "source": []
  }
 ],
 "metadata": {
  "kernelspec": {
   "display_name": "Python 3",
   "language": "python",
   "name": "python3"
  },
  "language_info": {
   "codemirror_mode": {
    "name": "ipython",
    "version": 3
   },
   "file_extension": ".py",
   "mimetype": "text/x-python",
   "name": "python",
   "nbconvert_exporter": "python",
   "pygments_lexer": "ipython3",
   "version": "3.8.5"
  }
 },
 "nbformat": 4,
 "nbformat_minor": 4
}
